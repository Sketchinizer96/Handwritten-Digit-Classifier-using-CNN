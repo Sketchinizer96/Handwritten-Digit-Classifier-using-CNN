{
 "cells": [
  {
   "cell_type": "code",
   "execution_count": 38,
   "metadata": {},
   "outputs": [],
   "source": [
    "# for installing tensorflow open condaPrompt and type\n",
    "# pip install tensorflow\n",
    "import tensorflow as tf # using tf as an alias as it is generic\n",
    "from matplotlib import pyplot as plt"
   ]
  },
  {
   "cell_type": "code",
   "execution_count": 39,
   "metadata": {},
   "outputs": [],
   "source": [
    "# http://yann.lecun.com/exdb/mnist/\n",
    "mnist = tf.keras.datasets.mnist"
   ]
  },
  {
   "cell_type": "code",
   "execution_count": 40,
   "metadata": {},
   "outputs": [],
   "source": [
    "# We Split the data into two that is Training and test set.\n",
    "# We use 70% data for taining and 30% for testing\n",
    "(x_train,y_train),(x_test,y_test) = mnist.load_data()"
   ]
  },
  {
   "cell_type": "code",
   "execution_count": 44,
   "metadata": {},
   "outputs": [
    {
     "name": "stdout",
     "output_type": "stream",
     "text": [
      "Train: X=(60000, 28, 28), y=(60000,)\n",
      "Test: X=(10000, 28, 28), y=(10000,)\n"
     ]
    },
    {
     "data": {
      "image/png": "[encoded data removed]",
      "text/plain": [
       "<Figure size 432x288 with 9 Axes>"
      ]
     },
     "metadata": {
      "needs_background": "light"
     },
     "output_type": "display_data"
    }
   ],
   "source": [
    "plt.imshow(x_train[0],cmap=plt.cm.binary)\n",
    "plt.show;\n",
    "print('Train: X=%s, y=%s' % (x_train.shape, y_train.shape))\n",
    "print('Test: X=%s, y=%s' % (x_test.shape, y_test.shape))\n",
    "# plot first few images\n",
    "for i in range(9):\n",
    "\t# define subplot\n",
    "\tplt.subplot(330 + 1 + i)\n",
    "\t# plot raw pixel data\n",
    "\tplt.imshow(x_train[i], cmap=plt.cm.binary)\n",
    "# show the figure\n",
    "plt.show();"
   ]
  },
  {
   "cell_type": "code",
   "execution_count": 5,
   "metadata": {},
   "outputs": [],
   "source": [
    "# We need to the scale down the data using feature scaling (Normalization)\n",
    "# Normalization: We scale down all the data between 0-1 using normalization\n",
    "# all the values will remain intact.\n",
    "# x_train[0]-- to check the original data\n",
    "x_train=tf.keras.utils.normalize(x_train,axis=1)\n",
    "x_test=tf.keras.utils.normalize(x_test,axis=1)\n",
    "# We are gonna noramalize the data against the column value\n",
    "# x_train[0]-- to check the changes after Normalization."
   ]
  },
  {
   "cell_type": "code",
   "execution_count": 6,
   "metadata": {},
   "outputs": [],
   "source": [
    "# We use Convolution Neural Networks i.e is a fully connected layer\n",
    "# https://towardsdatascience.com/a-comprehensive-guide-to-convolutional-neural-networks-the-eli5-way-3bd2b1164a53\n",
    "model = tf.keras.models.Sequential() # Basic Feed forward Network\n",
    "# We perform the flattening of the data using Flatten Function.\n",
    "#https://www.superdatascience.com/blogs/convolutional-neural-networks-cnn-step-3-flattening\n",
    "model.add(tf.keras.layers.Flatten()) # takes our 28x28 and makes it 1x784\n",
    "#https://www.tutorialspoint.com/keras/keras_dense_layer.html\n",
    "# relu is Rectified Linear Units\n",
    "# activation function : the activation function of a node defines the output of that node given\n",
    "# an input or set of inputs. A standard integrated circuit can be seen as a digital network of activation functions that can be \"ON\" (1) or \"OFF\" (0), depending on input.\n",
    "model.add(tf.keras.layers.Dense(128,activation=tf.nn.relu)) # Second layer has 128 neurons.\n",
    "model.add(tf.keras.layers.Dense(128,activation=tf.nn.relu)) # Third layer has 128 neurons.\n",
    "model.add(tf.keras.layers.Dense(10,activation=tf.nn.softmax))# Fourth layer has 10neurons.\n",
    "# We use softmax as we have multiple outputs han just binary.\n",
    "# we have 10 in last function is because of 0-9 as output."
   ]
  },
  {
   "cell_type": "code",
   "execution_count": 8,
   "metadata": {},
   "outputs": [
    {
     "name": "stdout",
     "output_type": "stream",
     "text": [
      "Epoch 1/10\n",
      "1875/1875 [==============================] - 4s 2ms/step - loss: 0.2641 - accuracy: 0.9227\n",
      "Epoch 2/10\n",
      "1875/1875 [==============================] - 4s 2ms/step - loss: 0.1092 - accuracy: 0.9658\n",
      "Epoch 3/10\n",
      "1875/1875 [==============================] - 4s 2ms/step - loss: 0.0741 - accuracy: 0.9759\n",
      "Epoch 4/10\n",
      "1875/1875 [==============================] - 4s 2ms/step - loss: 0.0548 - accuracy: 0.9822\n",
      "Epoch 5/10\n",
      "1875/1875 [==============================] - 4s 2ms/step - loss: 0.0418 - accuracy: 0.9863\n",
      "Epoch 6/10\n",
      "1875/1875 [==============================] - 4s 2ms/step - loss: 0.0323 - accuracy: 0.9888\n",
      "Epoch 7/10\n",
      "1875/1875 [==============================] - 6s 3ms/step - loss: 0.0266 - accuracy: 0.9910\n",
      "Epoch 8/10\n",
      "1875/1875 [==============================] - 4s 2ms/step - loss: 0.0210 - accuracy: 0.9929\n",
      "Epoch 9/10\n",
      "1875/1875 [==============================] - 5s 3ms/step - loss: 0.0178 - accuracy: 0.9941\n",
      "Epoch 10/10\n",
      "1875/1875 [==============================] - 5s 3ms/step - loss: 0.0159 - accuracy: 0.9948\n"
     ]
    },
    {
     "data": {
      "text/plain": [
       "<tensorflow.python.keras.callbacks.History at 0x1e9a059a448>"
      ]
     },
     "execution_count": 8,
     "metadata": {},
     "output_type": "execute_result"
    }
   ],
   "source": [
    "# Optimizer : Makes the outputs efficients on compilation\n",
    "# https://www.tensorflow.org/api_docs/python/tf/keras/optimizers\n",
    "# https://www.tensorflow.org/api_docs/python/tf/keras/losses/SparseCategoricalCrossentropy\n",
    "model.compile(optimizer='adam',\n",
    "              loss='sparse_categorical_crossentropy', # how will we calculate the error to minimize the loss\n",
    "              metrics=['accuracy'])\n",
    "# training the model\n",
    "model.fit(x_train,y_train,epochs=10,workers=1)"
   ]
  },
  {
   "cell_type": "code",
   "execution_count": 9,
   "metadata": {},
   "outputs": [
    {
     "name": "stdout",
     "output_type": "stream",
     "text": [
      "313/313 [==============================] - 0s 1ms/step - loss: 0.1119 - accuracy: 0.9732\n"
     ]
    }
   ],
   "source": [
    "# We validate on the data loss and Accuracy of the model\n",
    "validation_loss,validation_accuracy=model.evaluate(x_test,y_test)"
   ]
  },
  {
   "cell_type": "code",
   "execution_count": 17,
   "metadata": {},
   "outputs": [
    {
     "name": "stdout",
     "output_type": "stream",
     "text": [
      "Validation_Loss         : 11.19%\n",
      "Validation_Accuracy     : 97.32%\n"
     ]
    }
   ],
   "source": [
    "print('Validation_Loss         : '+str(round((validation_loss * 100),2))+'%')\n",
    "print('Validation_Accuracy     : '+str(round((validation_accuracy * 100),2))+'%')"
   ]
  },
  {
   "cell_type": "code",
   "execution_count": 19,
   "metadata": {},
   "outputs": [
    {
     "name": "stdout",
     "output_type": "stream",
     "text": [
      "INFO:tensorflow:Assets written to: digit_model.model\\assets\n"
     ]
    }
   ],
   "source": [
    "# Saving the Model\n",
    "model.save('digit_model.model')"
   ]
  },
  {
   "cell_type": "code",
   "execution_count": 26,
   "metadata": {},
   "outputs": [],
   "source": [
    "# loading the model for use\n",
    "new_model = tf.keras.models.load_model('digit_model.model')\n",
    "predictions =new_model.predict(x_test)"
   ]
  },
  {
   "cell_type": "code",
   "execution_count": 27,
   "metadata": {},
   "outputs": [
    {
     "data": {
      "image/png": "[encoded data removed]",
      "text/plain": [
       "<Figure size 432x288 with 1 Axes>"
      ]
     },
     "metadata": {
      "needs_background": "light"
     },
     "output_type": "display_data"
    }
   ],
   "source": [
    "plt.imshow(x_test[0],cmap=plt.cm.binary)\n",
    "plt.show;"
   ]
  },
  {
   "cell_type": "code",
   "execution_count": 31,
   "metadata": {},
   "outputs": [
    {
     "name": "stdout",
     "output_type": "stream",
     "text": [
      "[6.7321954e-17 2.4849244e-11 8.3935893e-11 1.2011217e-08 3.1928090e-13\n",
      " 1.3780161e-14 1.6156443e-20 1.0000000e+00 9.1137922e-12 3.7908135e-11]\n"
     ]
    }
   ],
   "source": [
    "import numpy as np\n",
    "print(predictions[0])\n"
   ]
  },
  {
   "cell_type": "code",
   "execution_count": 30,
   "metadata": {},
   "outputs": [
    {
     "name": "stdout",
     "output_type": "stream",
     "text": [
      "The Number Displayed is :  7\n"
     ]
    }
   ],
   "source": [
    "# argmax returns you the index of the maximum value in the array.\n",
    "Prediction = np.argmax(predictions[0])\n",
    "print('The Number Displayed is : ',Prediction)"
   ]
  },
  {
   "cell_type": "code",
   "execution_count": 35,
   "metadata": {},
   "outputs": [
    {
     "name": "stdout",
     "output_type": "stream",
     "text": [
      "The Number Displayed is :  4\n"
     ]
    },
    {
     "data": {
      "image/png": "[encoded data removed]",
      "text/plain": [
       "<Figure size 432x288 with 1 Axes>"
      ]
     },
     "metadata": {
      "needs_background": "light"
     },
     "output_type": "display_data"
    }
   ],
   "source": [
    "# testing with different values :\n",
    "## Please run these cells only\n",
    "\n",
    "x = np.random.randint(0,100)\n",
    "plt.imshow(x_test[x],cmap=plt.cm.binary)\n",
    "plt.show;\n",
    "Prediction = np.argmax(predictions[x])\n",
    "print('The Number Displayed is : ',Prediction)"
   ]
  },
  {
   "cell_type": "code",
   "execution_count": null,
   "metadata": {},
   "outputs": [],
   "source": []
  }
 ],
 "metadata": {
  "kernelspec": {
   "display_name": "Python 3",
   "language": "python",
   "name": "python3"
  },
  "language_info": {
   "codemirror_mode": {
    "name": "ipython",
    "version": 3
   },
   "file_extension": ".py",
   "mimetype": "text/x-python",
   "name": "python",
   "nbconvert_exporter": "python",
   "pygments_lexer": "ipython3",
   "version": "3.7.6"
  }
 },
 "nbformat": 4,
 "nbformat_minor": 4
}
